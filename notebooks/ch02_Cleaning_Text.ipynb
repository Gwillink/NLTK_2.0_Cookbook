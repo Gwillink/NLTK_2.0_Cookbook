{
 "metadata": {
  "name": "ch02_Cleaning_Text"
 }, 
 "nbformat": 2, 
 "worksheets": [
  {
   "cells": [
    {
     "cell_type": "code", 
     "collapsed": true, 
     "input": [
      "import sys", 
      "sys.path.append(\"lib\")"
     ], 
     "language": "python", 
     "outputs": [], 
     "prompt_number": 1
    }, 
    {
     "cell_type": "markdown", 
     "source": [
      "<h2>Cleaning Text</h2>", 
      "<p>It is often useful or even necessary to <em>clean</em> text before applying NLP. This section details some of these cleaning methods.</p>", 
      "<h2>Word Replacement</h2>", 
      "<p>As it's name suggests, <em>word replacement</em> is the processing of scanning the text for various words or patterns and replacing", 
      "    them with something else. This is often done as a <strong><em>precursor to tokenization</em></strong>. This example from the text ", 
      "    replaces contractions. We can imagine how this might be useful for replacing gene or phenotype \"synonyms\" with some canonical ", 
      "    representation before tokenizing text to create a search index. ", 
      "</p>", 
      "<p>In the example shown, the <strong>RegexpReplacer</strong> class has a predefined set of default replacements, where each replacement", 
      "    in the set is a tuple pair (pat,repl) where pat is a regex pattern and repl is the replacement value. A different set can be supplied", 
      "    to the RegexReplacer as shown in my second contrived example</p>"
     ]
    }, 
    {
     "cell_type": "code", 
     "collapsed": false, 
     "input": [
      "from replacers import RegexpReplacer", 
      "rep = RegexpReplacer()", 
      "para = 'I should\\'ve gone to the well once more. I can\\'t believe I didn\\'t.'", 
      "print rep.replace(para)"
     ], 
     "language": "python", 
     "outputs": [
      {
       "output_type": "stream", 
       "stream": "stdout", 
       "text": [
        "I should have gone to the well once more. I cannot believe I did not."
       ]
      }
     ], 
     "prompt_number": 2
    }, 
    {
     "cell_type": "code", 
     "collapsed": false, 
     "input": [
      "patterns = [(r'MLB', 'Major League Baseball'),\\", 
      "            (r'NHL','National Hockey League'),\\", 
      "            (r'NFL','National Football League'),\\", 
      "            (r'NBA', 'National Basketball Association')]", 
      "rep_leagues = RegexpReplacer(patterns=patterns)", 
      "print rep_leagues.replace('Of the four major U.S. sports leagues, the NFL, NHL, NBA, and MLB,'\\", 
      "                          + ' my favorite happens to be the NFL. Though I also really like the NHL and MLB.')"
     ], 
     "language": "python", 
     "outputs": [
      {
       "output_type": "stream", 
       "stream": "stdout", 
       "text": [
        "Of the four major U.S. sports leagues, the National Football League, National Hockey League, National Basketball Association, and Major League Baseball, my favorite happens to be the National Football League. Though I also really like the National Hockey League and Major League Baseball."
       ]
      }
     ], 
     "prompt_number": 3
    }, 
    {
     "cell_type": "markdown", 
     "source": [
      "<h2>Spell Check</h2>", 
      "This version of spell check requires that the <a href=\"http://packages.python.org/pyenchant/\">PyEnchant</a> module is installed in", 
      "your Python instance."
     ]
    }, 
    {
     "cell_type": "code", 
     "collapsed": false, 
     "input": [
      "from replacers import SpellingReplacer", 
      "max_chars_changed = 2 #max number of character's enchant is allowed to change to correct a word", 
      "replacer = SpellingReplacer(dict_name = 'en_US', max_dist=max_chars_changed)", 
      "replacer.replace('cookbok')"
     ], 
     "language": "python", 
     "outputs": [
      {
       "output_type": "pyout", 
       "prompt_number": 20, 
       "text": [
        "'cookbook'"
       ]
      }
     ], 
     "prompt_number": 20
    }, 
    {
     "cell_type": "markdown", 
     "source": [
      "<p>Let's try it on a paragraph</p>"
     ]
    }, 
    {
     "cell_type": "code", 
     "collapsed": false, 
     "input": [
      "para = 'The drem of health for al, even the porest of the poor, can becom a reality becuse ' +\\", 
      "        'of recent breakthroughs in technoogy and health systems. Scientific results that ' +\\", 
      "        'our Millennium Villages Project team published this week in The Lancet, oupled with ' +\\", 
      "        'broader trends around the world, should be a wake-up call: We can end the deaths of milions ' +\\", 
      "        'of young children and mothers each year by building on recent innovations.'", 
      "import nltk.data", 
      "sent_tokenizer = nltk.data.load('tokenizers/punkt/english.pickle')", 
      "sentences = sent_tokenizer.tokenize(para)", 
      "from nltk.tokenize import PunktWordTokenizer", 
      "punkt_tokenizer = PunktWordTokenizer()", 
      "words = [word for sentence in sentences for word in punkt_tokenizer.tokenize(sentence)]", 
      "#we don't want to spell check the punctuation", 
      "punc = [',','.',':']", 
      "corrected_words = map(lambda word: word in punc and word or replacer.replace(word), words)", 
      "print corrected_words"
     ], 
     "language": "python", 
     "outputs": [
      {
       "output_type": "stream", 
       "stream": "stdout", 
       "text": [
        "['The', 'rem', 'of', 'health', 'for', 'AL', ',', 'even', 'the', 'pores', 'of', 'the', 'poor', ',', 'can', 'become', 'a', 'reality', 'because', 'of', 'recent', 'breakthroughs', 'in', 'technology', 'and', 'health', 'systems.', 'Scientific', 'results', 'that', 'our', 'Millennium', 'Villages', 'Project', 'team', 'published', 'this', 'week', 'in', 'The', 'Lancet', ',', 'coupled', 'with', 'broader', 'trends', 'around', 'the', 'world', ',', 'should', 'be', 'a', 'wakeful', 'call', ':', 'We', 'can', 'end', 'the', 'deaths', 'of', 'millions', 'of', 'young', 'children', 'and', 'mothers', 'each', 'year', 'by', 'building', 'on', 'recent', 'innovations.']"
       ]
      }
     ], 
     "prompt_number": 19
    }, 
    {
     "cell_type": "markdown", 
     "source": [
      "<p>Clearly, automated spell checking is not simple.</p>"
     ]
    }, 
    {
     "cell_type": "code", 
     "collapsed": true, 
     "input": [], 
     "language": "python", 
     "outputs": []
    }
   ]
  }
 ]
}