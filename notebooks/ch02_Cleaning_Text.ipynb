{
 "metadata": {
  "name": "ch02_Cleaning_Text"
 }, 
 "nbformat": 2, 
 "worksheets": [
  {
   "cells": [
    {
     "cell_type": "markdown", 
     "source": [
      "<p>It is often useful or even necessary to <em>clean</em> text before applying NLP. This section details some of these cleaning methods.</p>"
     ]
    }, 
    {
     "cell_type": "markdown", 
     "source": [
      "<h2>Word Replacement</h2>", 
      "<p>As it's name suggests, <em>word replacement</em> is the processing of scanning the text for various words or patterns and replacing", 
      "    them with something else. This is often done as a <strong><em>precursor to tokenization</em></strong>. This example from the text ", 
      "    replaces contractions. We can imagine how this might be useful for replacing gene or phenotype \"synonyms\" with some canonical ", 
      "    representation before tokenizing text to create a search index. ", 
      "</p>", 
      "<p>In the example shown, the <strong>RegexpReplacer</strong> class has a predefined set of default replacements, where each replacement", 
      "    in the set is a tuple pair (pat,repl) where pat is a regex pattern and repl is the replacement value. A different set can be supplied", 
      "    to the RegexReplacer as shown in my second contrived example</p>"
     ]
    }, 
    {
     "cell_type": "code", 
     "collapsed": false, 
     "input": [
      "import sys", 
      "sys.path.append(\"lib\")", 
      "from replacers import RegexpReplacer", 
      "rep = RegexpReplacer()", 
      "para = 'I should\\'ve gone to the well once more. I can\\'t believe I didn\\'t.'", 
      "print rep.replace(para)"
     ], 
     "language": "python", 
     "outputs": [
      {
       "output_type": "stream", 
       "stream": "stdout", 
       "text": [
        "I should have gone to the well once more. I cannot believe I did not."
       ]
      }
     ], 
     "prompt_number": 10
    }, 
    {
     "cell_type": "code", 
     "collapsed": false, 
     "input": [
      "patterns = [(r'MLB', 'Major League Baseball'),\\", 
      "            (r'NHL','National Hockey League'),\\", 
      "            (r'NFL','National Football League'),\\", 
      "            (r'NBA', 'National Basketball Association')]", 
      "rep_leagues = RegexpReplacer(patterns=patterns)", 
      "print rep_leagues.replace('Of the four major U.S. sports leagues, the NFL, NHL, NBA, and MLB,'\\", 
      "                          + ' my favorite happens to be the NFL. Though I also really like the NHL and MLB.')"
     ], 
     "language": "python", 
     "outputs": [
      {
       "output_type": "stream", 
       "stream": "stdout", 
       "text": [
        "Of the four major U.S. sports leagues, the National Football League, National Hockey League, National Basketball Association, and Major League Baseball, my favorite happens to be the National Football League. Though I also really like the National Hockey League and Major League Baseball."
       ]
      }
     ], 
     "prompt_number": 11
    }
   ]
  }
 ]
}